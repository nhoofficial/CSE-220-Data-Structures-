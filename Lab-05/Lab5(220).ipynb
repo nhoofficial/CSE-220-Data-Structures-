{
 "cells": [
  {
   "cell_type": "code",
   "execution_count": null,
   "metadata": {
    "colab": {
     "base_uri": "https://localhost:8080/"
    },
    "id": "a7Muta-tA5Q2",
    "outputId": "a8bf3d48-9ddf-4018-bebe-76263f478133"
   },
   "outputs": [
    {
     "name": "stdout",
     "output_type": "stream",
     "text": [
      "4\n",
      "24\n"
     ]
    }
   ],
   "source": [
    "#task1\n",
    "n=int(input())\n",
    "def fact(n):\n",
    "    if n==0:\n",
    "        return 1\n",
    "    else:\n",
    "        return n*fact(n-1)\n",
    "print(fact(n))\n"
   ]
  },
  {
   "cell_type": "code",
   "execution_count": null,
   "metadata": {
    "colab": {
     "base_uri": "https://localhost:8080/"
    },
    "id": "VztH864PCl8l",
    "outputId": "31df6ee4-22d8-46d5-98ac-56abf7fb321d"
   },
   "outputs": [
    {
     "name": "stdout",
     "output_type": "stream",
     "text": [
      "3\n",
      "2\n"
     ]
    }
   ],
   "source": [
    "#task2\n",
    "n=int(input())\n",
    "def fib(n):\n",
    "  if n==1 or n==2:\n",
    "    return 1\n",
    "  else:\n",
    "    return fib(n-1)+fib(n-2)\n",
    "print(fib(n))    \n"
   ]
  },
  {
   "cell_type": "code",
   "execution_count": null,
   "metadata": {
    "colab": {
     "base_uri": "https://localhost:8080/"
    },
    "id": "sHkNv3UjESuz",
    "outputId": "992741b3-573b-4f52-e380-55314428d90a"
   },
   "outputs": [
    {
     "name": "stdout",
     "output_type": "stream",
     "text": [
      "10\n",
      "20\n",
      "30\n",
      "40\n",
      "50\n"
     ]
    }
   ],
   "source": [
    "#task3\n",
    "a=[10,20,30,40,50]\n",
    "i=0\n",
    "def pr(i,a):\n",
    "  if i==len(a):\n",
    "    return \n",
    "  else:\n",
    "    print(a[i])\n",
    "    return pr(i+1,a)\n",
    "pr(i,a)"
   ]
  },
  {
   "cell_type": "code",
   "execution_count": null,
   "metadata": {
    "colab": {
     "base_uri": "https://localhost:8080/"
    },
    "id": "oBxjbMv_JtnS",
    "outputId": "53fb0c6c-a5fb-4f05-caff-8366cef2dd6f"
   },
   "outputs": [
    {
     "name": "stdout",
     "output_type": "stream",
     "text": [
      "Enter the number you want to convert in binary:  1111\n",
      "15\n"
     ]
    }
   ],
   "source": [
    "#task4\n",
    "n=input(\"Enter the number you want to convert in binary:  \")\n",
    "num=len(n)-1\n",
    "i=0\n",
    "def bin(n,num,i):\n",
    "  if i==len(n):\n",
    "    return 0\n",
    "  else:\n",
    "    return int(n[i])*2**num+bin(n,num-1,i+1)\n",
    "print(bin(n,num,i))      \n",
    "\n",
    "\n"
   ]
  },
  {
   "cell_type": "code",
   "execution_count": null,
   "metadata": {
    "colab": {
     "base_uri": "https://localhost:8080/"
    },
    "id": "pipCuqe0JDod",
    "outputId": "09edcd4d-28d1-45e1-c224-22ad953c31a6"
   },
   "outputs": [
    {
     "name": "stdout",
     "output_type": "stream",
     "text": [
      "10\n",
      "3\n",
      "1000\n"
     ]
    }
   ],
   "source": [
    "#task5\n",
    "m=int(input())\n",
    "n=int(input())\n",
    "def exp(m,n):\n",
    "  if n==0:\n",
    "    return 1\n",
    "  else:\n",
    "    x=exp(m,n-1)\n",
    "    return m*x\n",
    "print(exp(m,n))      "
   ]
  },
  {
   "cell_type": "code",
   "execution_count": null,
   "metadata": {
    "colab": {
     "base_uri": "https://localhost:8080/"
    },
    "id": "ZPr-p8WZJmCq",
    "outputId": "3395482f-388c-4637-bf2d-eaa1b9125bf9"
   },
   "outputs": [
    {
     "name": "stdout",
     "output_type": "stream",
     "text": [
      "150\n"
     ]
    }
   ],
   "source": [
    "class Node:\n",
    "    def __init__(self,element,next):\n",
    "        self.element=element\n",
    "        self.next=next\n",
    "\n",
    "class MyList:\n",
    "    def __init__(self,a=None):\n",
    "        self.head = None\n",
    "        if a == None:\n",
    "            self.head = None\n",
    "            n = Node(None, None)\n",
    "            self.head = n\n",
    "        elif isinstance(a, list):\n",
    "            for i in a:\n",
    "                n = Node(i, None)\n",
    "                if self.head == None:\n",
    "                    self.head = n\n",
    "                    tail = n\n",
    "                else:\n",
    "                    tail.next = n\n",
    "                    tail = n\n",
    "\n",
    "        elif isinstance(a, MyList):\n",
    "            copyTail = None\n",
    "            n = a.head\n",
    "            while n != None:\n",
    "                newNode = Node(n.element, None)\n",
    "                if (self.head == None):\n",
    "                    self.head = newNode\n",
    "                    copyTail = newNode\n",
    "                else:\n",
    "                    copyTail.next = newNode\n",
    "                    copyTail = newNode\n",
    "                n = n.next\n",
    "        else:\n",
    "            print(\"Wrong datatype passed in the constructor so creating an empty MyList\")\n",
    "            self.head = None\n",
    "            n = Node(None, None)\n",
    "            self.head = n\n",
    "#2(2)\n",
    "    def showList(self):\n",
    "        n=self.head\n",
    "        if n==None:\n",
    "            print(\"Empty list\")\n",
    "        else:\n",
    "            i=self.head\n",
    "            while i!=None:\n",
    "                print(i.element)\n",
    "                i=i.next\n",
    "    def add(self, node):\n",
    "        if node is None:\n",
    "            return 0\n",
    "        else:\n",
    "            return node.element + self.add(node.next)\n",
    "\n",
    "\n",
    "a = MyList([10,20,30,40,50])\n",
    "print(a.add(a.head))"
   ]
  }
 ],
 "metadata": {
  "colab": {
   "collapsed_sections": [],
   "name": "Lab5(220).ipynb",
   "provenance": []
  },
  "kernelspec": {
   "display_name": "Python 3",
   "language": "python",
   "name": "python3"
  },
  "language_info": {
   "codemirror_mode": {
    "name": "ipython",
    "version": 3
   },
   "file_extension": ".py",
   "mimetype": "text/x-python",
   "name": "python",
   "nbconvert_exporter": "python",
   "pygments_lexer": "ipython3",
   "version": "3.7.6"
  }
 },
 "nbformat": 4,
 "nbformat_minor": 1
}
