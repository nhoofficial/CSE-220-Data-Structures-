{
 "cells": [
  {
   "cell_type": "code",
   "execution_count": 1,
   "metadata": {},
   "outputs": [
    {
     "name": "stdout",
     "output_type": "stream",
     "text": [
      "[40, 50, 60, 0, 0, 0]\n"
     ]
    }
   ],
   "source": [
    "#Task1\n",
    "def shiftLeft(source,k):\n",
    "    new_lst=[0]*len(source)\n",
    "    for i in range(len(source)):\n",
    "        new_lst[i]=source[i+k]\n",
    "        if i+k==len(source)-1:\n",
    "            new_lst[i]=source[i+k]\n",
    "            break\n",
    "    for i in range(i+k,len(source)):\n",
    "        new_lst[i]=0\n",
    "    return new_lst\n",
    "source=[10,20,30,40,50,60]\n",
    "s=shiftLeft(source,3)\n",
    "print(s)"
   ]
  },
  {
   "cell_type": "code",
   "execution_count": 2,
   "metadata": {},
   "outputs": [
    {
     "name": "stdout",
     "output_type": "stream",
     "text": [
      "[40, 50, 60, 10, 20, 30]\n"
     ]
    }
   ],
   "source": [
    "\n",
    "#task2\n",
    "def rotateLeft(source,k):\n",
    "    new_lst=[0]*len(source)\n",
    "    for i in range(len(source)):  \n",
    "        if i+k==(len(source)):\n",
    "            break\n",
    "        else:\n",
    "            new_lst[i]=source[i+k]\n",
    "    c=0        \n",
    "    for i in range((len(source))-k,len(source)):\n",
    "        new_lst[i]=source[c]\n",
    "        c+=1\n",
    "    return new_lst\n",
    "\n",
    "source=[10,20,30,40,50,60]\n",
    "a=rotateLeft(source,3)\n",
    "print(a)\n",
    "\n"
   ]
  },
  {
   "cell_type": "code",
   "execution_count": 3,
   "metadata": {},
   "outputs": [
    {
     "name": "stdout",
     "output_type": "stream",
     "text": [
      "[10, 20, 40, 50, 0, 0, 0]\n"
     ]
    }
   ],
   "source": [
    "#task3\n",
    "def remove(source,size,idx):\n",
    "    for i in range(idx,size):\n",
    "        if idx<0 or idx>size:\n",
    "            print(\"Invalid index\")\n",
    "            break\n",
    "        else:\n",
    "            source[i]=source[i+1]\n",
    "            if i==(size-1):\n",
    "                source[i]=0\n",
    "    return source\n",
    "               \n",
    "source=[10,20,30,40,50,0,0]\n",
    "r=remove(source,5,2)\n",
    "print(r)"
   ]
  },
  {
   "cell_type": "code",
   "execution_count": 1,
   "metadata": {},
   "outputs": [
    {
     "name": "stdout",
     "output_type": "stream",
     "text": [
      "[10, 30, 50, 0, 0, 0, 0, 0, 0]\n"
     ]
    }
   ],
   "source": [
    "#task4\n",
    "def removeAll(source,size,element):\n",
    "    lst=[]\n",
    "    for i in range(size):\n",
    "        if source[i]!=element:\n",
    "            lst.append(source[i])        \n",
    "    c=len(source)-len(lst)   \n",
    "    for i in range(c):\n",
    "        lst.append(0)\n",
    "    source=lst\n",
    "    print(source)\n",
    "\n",
    "source=[10,2,30,2,50,2,2,0,0]\n",
    "removeAll(source,7,2)\n"
   ]
  },
  {
   "cell_type": "code",
   "execution_count": 1,
   "metadata": {},
   "outputs": [
    {
     "name": "stdout",
     "output_type": "stream",
     "text": [
      "1,1,1,2,1\n",
      "True\n"
     ]
    }
   ],
   "source": [
    "#task5\n",
    "a=list(map(int,input().rstrip().split(\",\")))\n",
    "def spilitting(a):\n",
    "    sum=0\n",
    "    sum1=0\n",
    "    for i in range(len(a)):\n",
    "        sum+=a[i]\n",
    "    c=sum/2    \n",
    "    for i in range(len(a)-1):\n",
    "        if sum1==c:\n",
    "            i=len(a)-2\n",
    "        else:\n",
    "            sum1+=float(a[i])\n",
    "    if sum1==c:\n",
    "        print('True')\n",
    "    else:\n",
    "        print('False')\n",
    "spilitting(a)"
   ]
  },
  {
   "cell_type": "code",
   "execution_count": 4,
   "metadata": {},
   "outputs": [
    {
     "name": "stdout",
     "output_type": "stream",
     "text": [
      "Input number: 3\n",
      "[0, 0, 1, 0, 2, 1, 3, 2, 1]\n"
     ]
    }
   ],
   "source": [
    "#task 6\n",
    "def array_series(n):\n",
    "    lst = []\n",
    "    i=1\n",
    "    while i<=n:\n",
    "        for zero in range(0, n - i):  \n",
    "            lst.append(0)\n",
    "        for num in range(i, 0, -1):\n",
    "            lst.append(num)\n",
    "        i+=1    \n",
    "    return lst\n",
    "n = int(input(\"Input number: \"))\n",
    "a=array_series(n)\n",
    "print(a)"
   ]
  },
  {
   "cell_type": "code",
   "execution_count": 5,
   "metadata": {},
   "outputs": [
    {
     "name": "stdout",
     "output_type": "stream",
     "text": [
      "4\n"
     ]
    }
   ],
   "source": [
    "#task 7\n",
    "def max_bunch(lst):\n",
    "    dic={}\n",
    "    for i in lst:\n",
    "        dic[i]=0\n",
    "    for i in dic:\n",
    "        for j in lst:\n",
    "            if i==j:\n",
    "                dic[i]+=1           \n",
    "    idx=0\n",
    "    for i in dic:\n",
    "        if dic[i]>idx:\n",
    "            idx=dic[i]\n",
    "    elem=None        \n",
    "    for i in dic:\n",
    "        if dic[i]==idx:\n",
    "            elem=i\n",
    "            break\n",
    "\n",
    "    n=0\n",
    "    newlst=[]        \n",
    "    for i in lst:\n",
    "        if i==elem:\n",
    "            n+=1\n",
    "        else:\n",
    "            if i!=elem:\n",
    "                newlst.append(n)      \n",
    "                n=0\n",
    "       \n",
    "    newlst.append(n)        \n",
    "    hc=0\n",
    "    for i in range(len(newlst)):\n",
    "        if newlst[i]>hc:\n",
    "            hc=newlst[i]\n",
    "    return hc\n",
    "        \n",
    "source=[1,1,2, 2, 1, 1,1,1]\n",
    "a=max_bunch(source)\n",
    "print(a)"
   ]
  },
  {
   "cell_type": "code",
   "execution_count": 2,
   "metadata": {},
   "outputs": [
    {
     "name": "stdout",
     "output_type": "stream",
     "text": [
      "True\n"
     ]
    }
   ],
   "source": [
    "#task8\n",
    "def repition(a):\n",
    "    dic = {}\n",
    "    for i in a:\n",
    "        dic[i] = 0\n",
    "    for i in dic:\n",
    "        for j in a:\n",
    "            if i == j:\n",
    "                dic[i] += 1\n",
    "    sup = 0\n",
    "    for i in dic:\n",
    "        if dic[i] > sup:\n",
    "            sup = dic[i]\n",
    "    c = 0\n",
    "    for i in dic:\n",
    "        if dic[i] == sup:\n",
    "            c += 1\n",
    "    if c >= 2:\n",
    "        return True\n",
    "    else:\n",
    "        return False\n",
    "a = [4,5,6,6,4,3,6,4]\n",
    "rep=repition(a)\n",
    "print(rep)"
   ]
  },
  {
   "cell_type": "code",
   "execution_count": 1,
   "metadata": {},
   "outputs": [
    {
     "name": "stdout",
     "output_type": "stream",
     "text": [
      "10,20,0,0,0,10,20,30\n",
      "5\n",
      "5\n",
      "False\n"
     ]
    }
   ],
   "source": [
    "#circular array\n",
    "#1\n",
    "source=list(map(int,input().rstrip().split(\",\")))\n",
    "size=int(input())\n",
    "start=int(input())\n",
    "def palindrome(source,start,size):\n",
    "    lst=[0]*len(source)\n",
    "    c=(start+(size-1))%len(source)\n",
    "    for i in range(size):\n",
    "        lst[start]=source[c]\n",
    "        c=(c-1)%len(source)\n",
    "        start=(start+1)%len(source)\n",
    "    if lst==source:\n",
    "        return True\n",
    "    else:\n",
    "        return False\n",
    "c=palindrome(source,start,size)\n",
    "print(c)"
   ]
  },
  {
   "cell_type": "code",
   "execution_count": 2,
   "metadata": {},
   "outputs": [
    {
     "name": "stdout",
     "output_type": "stream",
     "text": [
      "[10, 20, 40]\n"
     ]
    }
   ],
   "source": [
    "#circular array\n",
    "#task 2\n",
    "circulararray1=[40,50,0,0,0,10,20,30]\n",
    "circulararray2=[10,20,5,0,0,0,0,0,5,40,15,25]\n",
    "def intersection(source1,start_1,size_1,source2,start_2,size_2):\n",
    "    new_lst1=[]\n",
    "    new_lst2=[]\n",
    "    for i in range(size_1):\n",
    "        new_lst1.append(source1[start_1])\n",
    "        start_1=(start_1+1)%len(source1)\n",
    "        \n",
    "    for i in range(size_2):\n",
    "        new_lst2.append(source2[start_2])\n",
    "        start_2=(start_2+1)%len(source2)\n",
    "    common_element=[]\n",
    "    for i in new_lst1:\n",
    "        if i in new_lst2:\n",
    "            common_element.append(i)\n",
    "    return common_element\n",
    "common=intersection(circulararray1,5,5,circulararray2,8,7)    \n",
    "print(common)         \n",
    "                "
   ]
  },
  {
   "cell_type": "code",
   "execution_count": null,
   "metadata": {},
   "outputs": [],
   "source": []
  }
 ],
 "metadata": {
  "kernelspec": {
   "display_name": "Python 3",
   "language": "python",
   "name": "python3"
  },
  "language_info": {
   "codemirror_mode": {
    "name": "ipython",
    "version": 3
   },
   "file_extension": ".py",
   "mimetype": "text/x-python",
   "name": "python",
   "nbconvert_exporter": "python",
   "pygments_lexer": "ipython3",
   "version": "3.7.6"
  }
 },
 "nbformat": 4,
 "nbformat_minor": 4
}
